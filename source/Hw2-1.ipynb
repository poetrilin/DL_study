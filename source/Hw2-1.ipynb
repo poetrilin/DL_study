{
 "cells": [
  {
   "attachments": {},
   "cell_type": "markdown",
   "metadata": {},
   "source": [
    "> 1.math.exp & np.exp\n",
    "因为函数的输入是实数，所以我们很少在深度学习中使用“math”库。 而深度学习中主要使用的是矩阵和向量，因此numpy更为实用\n",
    "eg. $对于A=[x_1,x_2...x_n],//e^A =[e^{x_1},e^{x_2}...e^{x_n}]$"
   ]
  },
  {
   "cell_type": "code",
   "execution_count": 1,
   "metadata": {},
   "outputs": [],
   "source": [
    "import math\n",
    "import numpy as np"
   ]
  },
  {
   "cell_type": "code",
   "execution_count": 11,
   "metadata": {},
   "outputs": [
    {
     "name": "stdout",
     "output_type": "stream",
     "text": [
      "s1=0.9525741268224334, s2=0.9525741268224334\n"
     ]
    }
   ],
   "source": [
    "import time\n",
    "x=3\n",
    "s1 = 1 / (1 + math.exp(-x))\n",
    "s2 = 1 / (1 + np.exp(-x))\n",
    "print(\"s1=\"+str(s1)+\", s2=\"+str(s2))"
   ]
  },
  {
   "cell_type": "code",
   "execution_count": 13,
   "metadata": {},
   "outputs": [
    {
     "data": {
      "text/plain": [
       "array([0.73105858, 0.88079708, 0.95257413])"
      ]
     },
     "execution_count": 13,
     "metadata": {},
     "output_type": "execute_result"
    }
   ],
   "source": [
    "def sigmoid(x):\n",
    "    \"\"\"\n",
    "    Compute the sigmoid of x\n",
    "    Arguments:\n",
    "    x -- A scalar or numpy array of any size\n",
    "    Return:\n",
    "    s -- sigmoid(x)\n",
    "    \"\"\"\n",
    "    ### START CODE HERE ### (≈ 1 line of code)\n",
    "    s = 1 / (1 + np.exp(-x))\n",
    "    ### END CODE HERE ###\n",
    "    \n",
    "    return s\n",
    "\n",
    "x = np.array([1,2,3])\n",
    "sigmoid(x)"
   ]
  },
  {
   "attachments": {},
   "cell_type": "markdown",
   "metadata": {},
   "source": [
    "对行向量/列向量求范数$norm$:\n",
    "$$\\| x\\| = \\text{np.linalg.norm(x, axis=1, keepdims=True)} = \\begin{bmatrix}\n",
    "    5 \\\\\n",
    "    \\sqrt{56} \\\\\n",
    "\\end{bmatrix}\\tag{4}$$\n",
    "np.linalg.norm(求范数):\n",
    "```python\n",
    "x_norm=np.linalg.norm(x, ord=None, axis=None, keepdims=False)\n",
    "```\n",
    "1.ord default = None \n",
    "ord=1：列和的最大值\n",
    "ord=2：|λE-ATA|=0，求特征值，然后求最大特征值得算术平方根(matlab在线版，计算ans=ATA，[x,y]=eig(ans)，sqrt(y)，x是特征向量，y是特征值)\n",
    "ord=∞：行和的最大值\n",
    "2.axis：处理类型\n",
    "axis=1表示按行向量处理，求多个行向量的范数\n",
    "axis=0表示按列向量处理，求多个列向量的范数\n",
    "axis=None表示矩阵范数。\n",
    "3.keepding：是否保持矩阵的二维特性\n",
    "\n",
    "True表示保持矩阵的二维特性，False相反,一般用true防止变成rank=1的数组"
   ]
  },
  {
   "cell_type": "code",
   "execution_count": null,
   "metadata": {},
   "outputs": [],
   "source": []
  }
 ],
 "metadata": {
  "kernelspec": {
   "display_name": "base",
   "language": "python",
   "name": "python3"
  },
  "language_info": {
   "codemirror_mode": {
    "name": "ipython",
    "version": 3
   },
   "file_extension": ".py",
   "mimetype": "text/x-python",
   "name": "python",
   "nbconvert_exporter": "python",
   "pygments_lexer": "ipython3",
   "version": "3.9.13 (main, Aug 25 2022, 23:51:50) [MSC v.1916 64 bit (AMD64)]"
  },
  "orig_nbformat": 4,
  "vscode": {
   "interpreter": {
    "hash": "c982fbd28920764c91e446e87fd33654e833f053c95f54547b2708334b603c10"
   }
  }
 },
 "nbformat": 4,
 "nbformat_minor": 2
}
