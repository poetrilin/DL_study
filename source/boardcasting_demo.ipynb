{
 "cells": [
  {
   "cell_type": "code",
   "execution_count": 4,
   "metadata": {},
   "outputs": [],
   "source": [
    "import numpy as np\n",
    "A= np.array([[1,2,3,5],\n",
    "            [10,20,40,60],\n",
    "            [21,40,20,10]])\n"
   ]
  },
  {
   "attachments": {},
   "cell_type": "markdown",
   "metadata": {},
   "source": [
    ">          np.sum(a)          ------>元素求和  \n",
    ">          np.sum(a, axis=0) ------->列求和\n",
    ">          np.sum(a, axis=1) ------->行求和"
   ]
  },
  {
   "cell_type": "code",
   "execution_count": 6,
   "metadata": {},
   "outputs": [
    {
     "name": "stdout",
     "output_type": "stream",
     "text": [
      "[32 62 63 75]\n"
     ]
    }
   ],
   "source": [
    "cal1 = A.sum()\n",
    "cal2 = A.sum(axis=0)\n",
    "print(cal2)"
   ]
  },
  {
   "cell_type": "code",
   "execution_count": 10,
   "metadata": {},
   "outputs": [
    {
     "name": "stdout",
     "output_type": "stream",
     "text": [
      "[[0.03125    0.03225806 0.04761905 0.06666667]\n",
      " [0.3125     0.32258065 0.63492063 0.8       ]\n",
      " [0.65625    0.64516129 0.31746032 0.13333333]]\n"
     ]
    }
   ],
   "source": [
    "percentage = A/cal2.reshape(1,4)\n",
    "print(percentage)"
   ]
  },
  {
   "attachments": {},
   "cell_type": "markdown",
   "metadata": {},
   "source": [
    "> .reshape(1,4)可以不写，但是为了稳定性我们还是加上,因为numpy丰富的接口同时也带来了一定的风险,一定要分清楚数组和矩阵的语法区别"
   ]
  },
  {
   "cell_type": "code",
   "execution_count": 12,
   "metadata": {},
   "outputs": [
    {
     "name": "stdout",
     "output_type": "stream",
     "text": [
      "[ 0.83758596 -0.52087424 -0.7286271   1.08595922 -0.13301474]\n",
      "(5,)\n"
     ]
    }
   ],
   "source": [
    "a = np.random.randn(5)\n",
    "print(a)\n",
    "print(a.shape)"
   ]
  },
  {
   "attachments": {},
   "cell_type": "markdown",
   "metadata": {},
   "source": [
    "可以看到a的shape为(5,),此时我们打印a.T和np.dot(a,a.T),发现与意料不符合,理应是个5x5的矩阵才对"
   ]
  },
  {
   "cell_type": "code",
   "execution_count": 14,
   "metadata": {},
   "outputs": [
    {
     "name": "stdout",
     "output_type": "stream",
     "text": [
      "[ 0.83758596 -0.52087424 -0.7286271   1.08595922 -0.13301474]\n",
      "2.7007579966623725\n"
     ]
    }
   ],
   "source": [
    "print(a.T)\n",
    "print(np.dot(a,a.T))"
   ]
  },
  {
   "attachments": {},
   "cell_type": "markdown",
   "metadata": {},
   "source": [
    "为了规范我们应该让a为矩阵形式才好"
   ]
  },
  {
   "cell_type": "code",
   "execution_count": null,
   "metadata": {},
   "outputs": [],
   "source": [
    "a = np.random.randn(5,1) #5x1的列向量\n",
    "print(a)\n",
    "print(a.shape)\n",
    "print(a.T)\n",
    "print(np.dot(a,a.T))"
   ]
  },
  {
   "attachments": {},
   "cell_type": "markdown",
   "metadata": {},
   "source": [
    "实际上`a = np.random.randn(5)`是创建了一个rank(秩)为1的数组,为了防止这种不规范的行为我们可以使用reshape方法:"
   ]
  },
  {
   "cell_type": "code",
   "execution_count": 20,
   "metadata": {},
   "outputs": [],
   "source": [
    "assert (a.shape==(5,1)),a.reshape((5,1))"
   ]
  },
  {
   "attachments": {},
   "cell_type": "markdown",
   "metadata": {},
   "source": [
    "> 总之:1.不要使用rank=1的数组，2.自由使用assert检查维数和矩阵规格,3.用reshape即时调整"
   ]
  }
 ],
 "metadata": {
  "kernelspec": {
   "display_name": "base",
   "language": "python",
   "name": "python3"
  },
  "language_info": {
   "codemirror_mode": {
    "name": "ipython",
    "version": 3
   },
   "file_extension": ".py",
   "mimetype": "text/x-python",
   "name": "python",
   "nbconvert_exporter": "python",
   "pygments_lexer": "ipython3",
   "version": "3.9.13 (main, Aug 25 2022, 23:51:50) [MSC v.1916 64 bit (AMD64)]"
  },
  "orig_nbformat": 4,
  "vscode": {
   "interpreter": {
    "hash": "c982fbd28920764c91e446e87fd33654e833f053c95f54547b2708334b603c10"
   }
  }
 },
 "nbformat": 4,
 "nbformat_minor": 2
}
